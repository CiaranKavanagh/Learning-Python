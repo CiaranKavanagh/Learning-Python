{
 "cells": [
  {
   "cell_type": "code",
   "execution_count": 2,
   "id": "6140c713",
   "metadata": {},
   "outputs": [
    {
     "data": {
      "text/plain": [
       "'HelloWorld'"
      ]
     },
     "execution_count": 2,
     "metadata": {},
     "output_type": "execute_result"
    }
   ],
   "source": [
    "\"HelloWorld\""
   ]
  },
  {
   "cell_type": "code",
   "execution_count": 3,
   "id": "aa6dd263",
   "metadata": {},
   "outputs": [
    {
     "data": {
      "text/plain": [
       "2"
      ]
     },
     "execution_count": 3,
     "metadata": {},
     "output_type": "execute_result"
    }
   ],
   "source": [
    "1+1\n",
    "#shift enter to run code (works top down)\n",
    "# a for cell before , b for cell after , dd to delete\n",
    "# m for latex (markdown), y for code"
   ]
  },
  {
   "cell_type": "markdown",
   "id": "9de573b4",
   "metadata": {},
   "source": [
    "3+3"
   ]
  },
  {
   "cell_type": "code",
   "execution_count": 4,
   "id": "a9d49342",
   "metadata": {},
   "outputs": [
    {
     "data": {
      "text/plain": [
       "100"
      ]
     },
     "execution_count": 4,
     "metadata": {},
     "output_type": "execute_result"
    }
   ],
   "source": [
    "a = 100\n",
    "a\n",
    "# a is a varible, assigns values right to left"
   ]
  },
  {
   "cell_type": "code",
   "execution_count": 5,
   "id": "0aede55c",
   "metadata": {},
   "outputs": [
    {
     "data": {
      "text/plain": [
       "5.818181818181818"
      ]
     },
     "execution_count": 5,
     "metadata": {},
     "output_type": "execute_result"
    }
   ],
   "source": [
    "(1 + 2*(3 + 4) - 7)**2/11\n",
    "#rational numbers converted into floats\n",
    "#usual opperations * multiply **power % module"
   ]
  },
  {
   "cell_type": "code",
   "execution_count": 2,
   "id": "74a451dd",
   "metadata": {},
   "outputs": [
    {
     "name": "stdout",
     "output_type": "stream",
     "text": [
      "2.0\n",
      "-1.0\n"
     ]
    },
    {
     "data": {
      "text/plain": [
       "(-1+1.2246467991473532e-16j)"
      ]
     },
     "execution_count": 2,
     "metadata": {},
     "output_type": "execute_result"
    }
   ],
   "source": [
    "#to do math import packages\n",
    "import numpy as np\n",
    "import matplotlib.pyplot as plt\n",
    "# thus use np.(.) or plt.(.) for functions\n",
    "#Note if multiple calculations it only spits out the last one, need print \n",
    "\n",
    "print(np.sqrt(4))\n",
    "\n",
    "np.sin(np.pi)\n",
    "\n",
    "print(np.cos(np.pi))\n",
    "\n",
    "np.exp(complex(0,np.pi))"
   ]
  },
  {
   "cell_type": "code",
   "execution_count": 15,
   "id": "10b3581b",
   "metadata": {},
   "outputs": [
    {
     "data": {
      "text/plain": [
       "20"
      ]
     },
     "execution_count": 15,
     "metadata": {},
     "output_type": "execute_result"
    }
   ],
   "source": [
    "#functions defined with \"def\" name of function parenthesis with arguments\n",
    "# and \":\" definition of funciton should be indented. retun value with return\n",
    "#keyword from definition\n",
    "\n",
    "def f(x, y, z):\n",
    "    result = x**2 + 2*x*y-z**7\n",
    "    return result\n",
    "\n",
    "f(3,2,1)"
   ]
  },
  {
   "cell_type": "markdown",
   "id": "b7f0b84e",
   "metadata": {},
   "source": [
    "Using markdown M you can write using laytex eg $(x^2+y^2)^(1/2)$"
   ]
  },
  {
   "cell_type": "code",
   "execution_count": 16,
   "id": "1c9a6770",
   "metadata": {},
   "outputs": [
    {
     "data": {
      "text/plain": [
       "5.0"
      ]
     },
     "execution_count": 16,
     "metadata": {},
     "output_type": "execute_result"
    }
   ],
   "source": [
    "def f(x,y):\n",
    "    result = (x**2 + y**2)**(1/2)\n",
    "    return result\n",
    "\n",
    "f(3,4)"
   ]
  },
  {
   "cell_type": "code",
   "execution_count": 7,
   "id": "9408cf99",
   "metadata": {},
   "outputs": [
    {
     "name": "stdout",
     "output_type": "stream",
     "text": [
      "[4 7]\n",
      "[[3 6]\n",
      " [2 7]]\n",
      "[[[1 7]\n",
      "  [4 5]]\n",
      "\n",
      " [[3 8]\n",
      "  [9 2]]]\n"
     ]
    }
   ],
   "source": [
    "#arrays are useful\n",
    "\n",
    "v = np.array([4,7])\n",
    "A = np.array([[3,6],[2,7]])\n",
    "T = np.array([[[1,7],[4,5]],[[3,8],[9,2]]])\n",
    "\n",
    "print(v)\n",
    "\n",
    "\n",
    "print(A)\n",
    "print(T)\n"
   ]
  },
  {
   "cell_type": "code",
   "execution_count": 16,
   "id": "a6dfea1c",
   "metadata": {},
   "outputs": [
    {
     "name": "stdout",
     "output_type": "stream",
     "text": [
      "7\n",
      "7\n"
     ]
    }
   ],
   "source": [
    "# arrays are indexed from 0 [1:2] is everything from the 2nd up to and not including the third entry\n",
    "#if multidimentional then [1,[:2]]\n",
    "\n",
    "print(v[1])\n",
    "\n",
    "print(A[1,1])\n"
   ]
  },
  {
   "cell_type": "code",
   "execution_count": 18,
   "id": "593178b4",
   "metadata": {},
   "outputs": [
    {
     "data": {
      "text/plain": [
       "11"
      ]
     },
     "execution_count": 18,
     "metadata": {},
     "output_type": "execute_result"
    }
   ],
   "source": [
    "#we cant treat arrays as vectors and apply what we know to them\n",
    "\n",
    "G = np.array([1,2])\n",
    "H = np.array([3,4])\n",
    "\n",
    "#dot prodct defined as G@H\n",
    "\n",
    "G@H"
   ]
  },
  {
   "cell_type": "code",
   "execution_count": 19,
   "id": "7bef0efc",
   "metadata": {},
   "outputs": [
    {
     "data": {
      "text/plain": [
       "array([3, 8])"
      ]
     },
     "execution_count": 19,
     "metadata": {},
     "output_type": "execute_result"
    }
   ],
   "source": [
    "G*H #this is element wise multiplication"
   ]
  },
  {
   "cell_type": "code",
   "execution_count": 28,
   "id": "e750458f",
   "metadata": {},
   "outputs": [
    {
     "name": "stdout",
     "output_type": "stream",
     "text": [
      "{'key1': 2, 3: 11, 'keyx': 7}\n"
     ]
    },
    {
     "data": {
      "text/plain": [
       "7"
      ]
     },
     "execution_count": 28,
     "metadata": {},
     "output_type": "execute_result"
    }
   ],
   "source": [
    "#use dict when labeling certain elements of array\n",
    "\n",
    "\n",
    "dict = {\"key1\" : 2, 3:11, \"keyx\": 7}\n",
    "\n",
    "print(dict)\n",
    "dict[\"keyx\"]"
   ]
  },
  {
   "cell_type": "code",
   "execution_count": 29,
   "id": "450a5b76",
   "metadata": {},
   "outputs": [],
   "source": [
    "class IdentityMatrix(object):\n",
    "\n",
    "    def __init__(self, n,):\n",
    "        \"\"\"The number ``n`` gives the size of the matrix.\"\"\"\n",
    "        self.mat = np.identity(n)\n",
    "\n",
    "    def tr(self):\n",
    "        return np.trace(self.mat)"
   ]
  },
  {
   "cell_type": "code",
   "execution_count": 30,
   "id": "bc38bac5",
   "metadata": {},
   "outputs": [],
   "source": [
    "I = IdentityMatrix(3)"
   ]
  },
  {
   "cell_type": "code",
   "execution_count": 31,
   "id": "f07be70d",
   "metadata": {},
   "outputs": [
    {
     "data": {
      "text/plain": [
       "array([[1., 0., 0.],\n",
       "       [0., 1., 0.],\n",
       "       [0., 0., 1.]])"
      ]
     },
     "execution_count": 31,
     "metadata": {},
     "output_type": "execute_result"
    }
   ],
   "source": [
    "I.mat"
   ]
  },
  {
   "cell_type": "code",
   "execution_count": 32,
   "id": "401ec284",
   "metadata": {},
   "outputs": [
    {
     "data": {
      "text/plain": [
       "3.0"
      ]
     },
     "execution_count": 32,
     "metadata": {},
     "output_type": "execute_result"
    }
   ],
   "source": [
    "I.tr()"
   ]
  },
  {
   "cell_type": "code",
   "execution_count": null,
   "id": "1d73646f",
   "metadata": {},
   "outputs": [],
   "source": []
  }
 ],
 "metadata": {
  "kernelspec": {
   "display_name": "Python 3 (ipykernel)",
   "language": "python",
   "name": "python3"
  },
  "language_info": {
   "codemirror_mode": {
    "name": "ipython",
    "version": 3
   },
   "file_extension": ".py",
   "mimetype": "text/x-python",
   "name": "python",
   "nbconvert_exporter": "python",
   "pygments_lexer": "ipython3",
   "version": "3.9.12"
  }
 },
 "nbformat": 4,
 "nbformat_minor": 5
}
