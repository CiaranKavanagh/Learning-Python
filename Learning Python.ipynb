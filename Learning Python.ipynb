{
 "cells": [
  {
   "cell_type": "code",
   "execution_count": 2,
   "id": "6140c713",
   "metadata": {},
   "outputs": [
    {
     "data": {
      "text/plain": [
       "'HelloWorld'"
      ]
     },
     "execution_count": 2,
     "metadata": {},
     "output_type": "execute_result"
    }
   ],
   "source": [
    "\"HelloWorld\""
   ]
  },
  {
   "cell_type": "code",
   "execution_count": 3,
   "id": "aa6dd263",
   "metadata": {},
   "outputs": [
    {
     "data": {
      "text/plain": [
       "2"
      ]
     },
     "execution_count": 3,
     "metadata": {},
     "output_type": "execute_result"
    }
   ],
   "source": [
    "1+1\n",
    "#shift enter to run code (works top down)\n",
    "# a for cell before , b for cell after , dd to delete\n",
    "# m for latex (markdown), y for code"
   ]
  },
  {
   "cell_type": "markdown",
   "id": "9de573b4",
   "metadata": {},
   "source": [
    "3+3"
   ]
  },
  {
   "cell_type": "code",
   "execution_count": 4,
   "id": "a9d49342",
   "metadata": {},
   "outputs": [
    {
     "data": {
      "text/plain": [
       "100"
      ]
     },
     "execution_count": 4,
     "metadata": {},
     "output_type": "execute_result"
    }
   ],
   "source": [
    "a = 100\n",
    "a\n",
    "# a is a varible, assigns values right to left"
   ]
  },
  {
   "cell_type": "code",
   "execution_count": 5,
   "id": "0aede55c",
   "metadata": {},
   "outputs": [
    {
     "data": {
      "text/plain": [
       "5.818181818181818"
      ]
     },
     "execution_count": 5,
     "metadata": {},
     "output_type": "execute_result"
    }
   ],
   "source": [
    "(1 + 2*(3 + 4) - 7)**2/11\n",
    "#rational numbers converted into floats\n",
    "#usual opperations * multiply **power % module"
   ]
  },
  {
   "cell_type": "code",
   "execution_count": 14,
   "id": "74a451dd",
   "metadata": {},
   "outputs": [
    {
     "name": "stdout",
     "output_type": "stream",
     "text": [
      "2.0\n",
      "-1.0\n"
     ]
    },
    {
     "data": {
      "text/plain": [
       "(-1+1.2246467991473532e-16j)"
      ]
     },
     "execution_count": 14,
     "metadata": {},
     "output_type": "execute_result"
    }
   ],
   "source": [
    "#to do math import packages\n",
    "import numpy as np\n",
    "import matplotlib.pyplot as plt\n",
    "# thus use np.(.) or plt.(.) for functions\n",
    "#Note if multiple calculations it only spits out the last one, need print \n",
    "\n",
    "print(np.sqrt(4))\n",
    "\n",
    "np.sin(np.pi)\n",
    "\n",
    "print(np.cos(np.pi))\n",
    "\n",
    "np.exp(complex(0,np.pi))"
   ]
  },
  {
   "cell_type": "code",
   "execution_count": 15,
   "id": "10b3581b",
   "metadata": {},
   "outputs": [
    {
     "data": {
      "text/plain": [
       "20"
      ]
     },
     "execution_count": 15,
     "metadata": {},
     "output_type": "execute_result"
    }
   ],
   "source": [
    "#functions defined with \"def\" name of function parenthesis with arguments\n",
    "# and \":\" definition of funciton should be indented. retun value with return\n",
    "#keyword from definition\n",
    "\n",
    "def f(x, y, z):\n",
    "    result = x**2 + 2*x*y-z**7\n",
    "    return result\n",
    "\n",
    "f(3,2,1)"
   ]
  },
  {
   "cell_type": "markdown",
   "id": "b7f0b84e",
   "metadata": {},
   "source": [
    "Using markdown M you can write using laytex eg $(x^2+y^2)^(1/2)$"
   ]
  },
  {
   "cell_type": "code",
   "execution_count": 16,
   "id": "1c9a6770",
   "metadata": {},
   "outputs": [
    {
     "data": {
      "text/plain": [
       "5.0"
      ]
     },
     "execution_count": 16,
     "metadata": {},
     "output_type": "execute_result"
    }
   ],
   "source": [
    "def f(x,y):\n",
    "    result = (x**2 + y**2)**(1/2)\n",
    "    return result\n",
    "\n",
    "f(3,4)"
   ]
  },
  {
   "cell_type": "code",
   "execution_count": null,
   "id": "9408cf99",
   "metadata": {},
   "outputs": [],
   "source": []
  }
 ],
 "metadata": {
  "kernelspec": {
   "display_name": "Python 3 (ipykernel)",
   "language": "python",
   "name": "python3"
  },
  "language_info": {
   "codemirror_mode": {
    "name": "ipython",
    "version": 3
   },
   "file_extension": ".py",
   "mimetype": "text/x-python",
   "name": "python",
   "nbconvert_exporter": "python",
   "pygments_lexer": "ipython3",
   "version": "3.9.12"
  }
 },
 "nbformat": 4,
 "nbformat_minor": 5
}
